{
 "cells": [
  {
   "cell_type": "code",
   "execution_count": 1,
   "metadata": {},
   "outputs": [
    {
     "data": {
      "application/javascript": [
       "if (!(\"Notification\" in window)) {\n",
       "    alert(\"This browser does not support desktop notifications, so the %%notify magic will not work.\");\n",
       "} else if (Notification.permission !== 'granted' && Notification.permission !== 'denied') {\n",
       "    Notification.requestPermission(function (permission) {\n",
       "        if(!('permission' in Notification)) {\n",
       "            Notification.permission = permission;\n",
       "        }\n",
       "    })\n",
       "}\n"
      ],
      "text/plain": [
       "<IPython.core.display.Javascript object>"
      ]
     },
     "metadata": {},
     "output_type": "display_data"
    }
   ],
   "source": [
    "%load_ext jupyternotify"
   ]
  },
  {
   "cell_type": "code",
   "execution_count": 29,
   "metadata": {},
   "outputs": [],
   "source": [
    "from os import getcwd\n",
    "from os.path import join\n",
    "\n",
    "import random\n",
    "import numpy as np\n",
    "import pandas as pd\n",
    "import matplotlib.pyplot as plt\n",
    "import seaborn as sns\n",
    "\n",
    "from sklearn.model_selection import train_test_split, GridSearchCV, cross_val_score, cross_val_predict\n",
    "from sklearn.preprocessing import StandardScaler\n",
    "from sklearn.linear_model import LogisticRegression\n",
    "from sklearn.ensemble import RandomForestClassifier\n",
    "\n",
    "from sklearn.metrics import confusion_matrix, classification_report, plot_roc_curve"
   ]
  },
  {
   "cell_type": "code",
   "execution_count": 3,
   "metadata": {},
   "outputs": [],
   "source": [
    "work_dir = getcwd()\n",
    "data_dir = join(work_dir, \"data\")\n",
    "image_dir = join(work_dir, \"images\")"
   ]
  },
  {
   "cell_type": "code",
   "execution_count": 4,
   "metadata": {},
   "outputs": [],
   "source": [
    "fraud_data = pd.read_csv(join(data_dir, \"fraud_data_country.csv\"), index_col=0) "
   ]
  },
  {
   "cell_type": "markdown",
   "metadata": {},
   "source": [
    "## Preprocessing"
   ]
  },
  {
   "cell_type": "code",
   "execution_count": 7,
   "metadata": {},
   "outputs": [],
   "source": [
    "quantile_list = [0, .25, .5, .75, 1.]\n",
    "\n",
    "top5_country = ['United States', 'unknown', 'China', 'Japan', 'United Kingdom',\n",
    "       'Korea Republic of']\n",
    "\n",
    "def country_reduction(country):\n",
    "    \"\"\"\n",
    "    Réduction du nombre de country au top5\n",
    "    \"\"\"\n",
    "    if np.isin(country, top5_country):\n",
    "        return country\n",
    "    else:\n",
    "        return \"other\"\n",
    "\n",
    "def quantile_labels(feature_quantiles):\n",
    "    \"\"\"\n",
    "    return the list of the feature quantiles labels\n",
    "    \"\"\"\n",
    "    return [f\"{int(feature_quantiles.iloc[q])}-{int(feature_quantiles.iloc[q+1])}\" for q in range(len(feature_quantiles) - 1)]\n",
    "\n",
    "def preprocessing(df, dummies_drop_first=True):\n",
    "    \"\"\"\n",
    "    Procédure de préparation des features\n",
    "    \"\"\"\n",
    "    \n",
    "    # conversion de l'ip_address en int64\n",
    "    df[\"ip_address\"] = fraud_data[\"ip_address\"].astype(\"int64\")\n",
    "    \n",
    "    # time conversion\n",
    "    df[\"signup_time\"] = pd.to_datetime(df[\"signup_time\"], infer_datetime_format=True)\n",
    "    df[\"purchase_time\"] = pd.to_datetime(df[\"purchase_time\"], infer_datetime_format=True)\n",
    "    \n",
    "    # création de la feature délai signup purchase\n",
    "    df[\"signup_purchase_timedelta\"] = df[\"purchase_time\"] - df[\"signup_time\"]\n",
    "    df[\"signup_purchase_timedelta\"] = df[\"signup_purchase_timedelta\"].dt.total_seconds() / 60\n",
    "    \n",
    "    # création de la feature jour de la semaine de la transaction\n",
    "    df[\"purchase_weekday\"] = df[\"purchase_time\"].dt.weekday\n",
    "    \n",
    "    # création de la feature heure de la transaction\n",
    "    df[\"purchase_hour\"] = df[\"purchase_time\"].dt.hour\n",
    "    hour_quantiles = df[\"purchase_hour\"].quantile(quantile_list)\n",
    "    hour_bins_labels = quantile_labels(hour_quantiles)\n",
    "    df[\"purchase_hour\"] = pd.qcut(df[\"purchase_hour\"], q=quantile_list, labels=hour_bins_labels)\n",
    "    \n",
    "    # discretisation Age\n",
    "    age_quantiles = df[\"age\"].quantile(quantile_list)\n",
    "    age_bins_labels = quantile_labels(age_quantiles)\n",
    "    df[\"age\"] = pd.qcut(df[\"age\"], q=quantile_list, labels=age_bins_labels)\n",
    "    \n",
    "     \n",
    "    # réduction du nombre de classes de country\n",
    "    df[\"country\"] = df[\"country\"].map(country_reduction)\n",
    "    \n",
    "    # dummification\n",
    "    # sex, source, browser, age\n",
    "    df = pd.get_dummies(df, \n",
    "                        columns=[\"sex\", \"source\",\"browser\", \"age\", \"country\", \"purchase_weekday\", \"purchase_hour\"], \n",
    "                        drop_first=dummies_drop_first)\n",
    "    \n",
    "    return df"
   ]
  },
  {
   "cell_type": "code",
   "execution_count": 8,
   "metadata": {},
   "outputs": [],
   "source": [
    "df = preprocessing(fraud_data.copy(), False)"
   ]
  },
  {
   "cell_type": "code",
   "execution_count": 9,
   "metadata": {},
   "outputs": [
    {
     "data": {
      "text/plain": [
       "Index(['user_id', 'signup_time', 'purchase_time', 'purchase_value',\n",
       "       'device_id', 'ip_address', 'class', 'signup_purchase_timedelta',\n",
       "       'sex_F', 'sex_M', 'source_Ads', 'source_Direct', 'source_SEO',\n",
       "       'browser_Chrome', 'browser_FireFox', 'browser_IE', 'browser_Opera',\n",
       "       'browser_Safari', 'age_18-27', 'age_27-33', 'age_33-39', 'age_39-76',\n",
       "       'country_China', 'country_Japan', 'country_Korea Republic of',\n",
       "       'country_United Kingdom', 'country_United States', 'country_other',\n",
       "       'country_unknown', 'purchase_weekday_0', 'purchase_weekday_1',\n",
       "       'purchase_weekday_2', 'purchase_weekday_3', 'purchase_weekday_4',\n",
       "       'purchase_weekday_5', 'purchase_weekday_6', 'purchase_hour_0-6',\n",
       "       'purchase_hour_6-12', 'purchase_hour_12-17', 'purchase_hour_17-23'],\n",
       "      dtype='object')"
      ]
     },
     "execution_count": 9,
     "metadata": {},
     "output_type": "execute_result"
    }
   ],
   "source": [
    "df.columns"
   ]
  },
  {
   "cell_type": "code",
   "execution_count": 10,
   "metadata": {},
   "outputs": [],
   "source": [
    "time_features = [\n",
    "    'signup_time',\n",
    "    'purchase_time'\n",
    "]\n",
    "\n",
    "categorical = [\n",
    "    'source_Ads',\n",
    "#    'source_Direct', \n",
    "    'source_SEO', \n",
    "    'browser_Chrome',\n",
    "#    'browser_FireFox', \n",
    "    'browser_IE', \n",
    "    'browser_Opera', \n",
    "    'browser_Safari', \n",
    "#    'sex_M',\n",
    "    'sex_F',\n",
    "    'country_China',\n",
    "    'country_Japan', \n",
    "#    'country_Korea Republic of', \n",
    "    'country_United Kingdom',\n",
    "    'country_United States', \n",
    "    'country_other', \n",
    "    'country_unknown',\n",
    "    'age_18-27', \n",
    "    'age_27-33', \n",
    "    'age_33-39', \n",
    "#    'age_39-76',\n",
    "#    'purchase_weekday_0', \n",
    "    'purchase_weekday_1', \n",
    "    'purchase_weekday_2',\n",
    "    'purchase_weekday_3', \n",
    "    'purchase_weekday_4', \n",
    "    'purchase_weekday_5',\n",
    "    'purchase_weekday_6', \n",
    "    'purchase_hour_0-6', \n",
    "    'purchase_hour_6-12',\n",
    "    'purchase_hour_12-17', \n",
    "    'purchase_hour_17-23'\n",
    "]\n",
    "\n",
    "numerical = [\n",
    "    'purchase_value',\n",
    "    \"signup_purchase_timedelta\"\n",
    "]\n",
    "\n",
    "target = [\"class\"]"
   ]
  },
  {
   "cell_type": "code",
   "execution_count": 11,
   "metadata": {},
   "outputs": [
    {
     "data": {
      "text/html": [
       "<div>\n",
       "<style scoped>\n",
       "    .dataframe tbody tr th:only-of-type {\n",
       "        vertical-align: middle;\n",
       "    }\n",
       "\n",
       "    .dataframe tbody tr th {\n",
       "        vertical-align: top;\n",
       "    }\n",
       "\n",
       "    .dataframe thead th {\n",
       "        text-align: right;\n",
       "    }\n",
       "</style>\n",
       "<table border=\"1\" class=\"dataframe\">\n",
       "  <thead>\n",
       "    <tr style=\"text-align: right;\">\n",
       "      <th></th>\n",
       "      <th>class</th>\n",
       "    </tr>\n",
       "  </thead>\n",
       "  <tbody>\n",
       "    <tr>\n",
       "      <th>class</th>\n",
       "      <td>1.000000</td>\n",
       "    </tr>\n",
       "    <tr>\n",
       "      <th>signup_purchase_timedelta</th>\n",
       "      <td>0.257888</td>\n",
       "    </tr>\n",
       "    <tr>\n",
       "      <th>purchase_weekday_1</th>\n",
       "      <td>0.021337</td>\n",
       "    </tr>\n",
       "    <tr>\n",
       "      <th>purchase_weekday_2</th>\n",
       "      <td>0.018608</td>\n",
       "    </tr>\n",
       "    <tr>\n",
       "      <th>browser_Chrome</th>\n",
       "      <td>0.014620</td>\n",
       "    </tr>\n",
       "    <tr>\n",
       "      <th>country_unknown</th>\n",
       "      <td>0.013636</td>\n",
       "    </tr>\n",
       "    <tr>\n",
       "      <th>browser_IE</th>\n",
       "      <td>0.013363</td>\n",
       "    </tr>\n",
       "    <tr>\n",
       "      <th>source_SEO</th>\n",
       "      <td>0.012251</td>\n",
       "    </tr>\n",
       "    <tr>\n",
       "      <th>age_18-27</th>\n",
       "      <td>0.012010</td>\n",
       "    </tr>\n",
       "    <tr>\n",
       "      <th>purchase_weekday_4</th>\n",
       "      <td>0.011475</td>\n",
       "    </tr>\n",
       "    <tr>\n",
       "      <th>purchase_weekday_6</th>\n",
       "      <td>0.010327</td>\n",
       "    </tr>\n",
       "    <tr>\n",
       "      <th>purchase_hour_12-17</th>\n",
       "      <td>0.008243</td>\n",
       "    </tr>\n",
       "    <tr>\n",
       "      <th>purchase_weekday_5</th>\n",
       "      <td>0.007894</td>\n",
       "    </tr>\n",
       "  </tbody>\n",
       "</table>\n",
       "</div>"
      ],
      "text/plain": [
       "                              class\n",
       "class                      1.000000\n",
       "signup_purchase_timedelta  0.257888\n",
       "purchase_weekday_1         0.021337\n",
       "purchase_weekday_2         0.018608\n",
       "browser_Chrome             0.014620\n",
       "country_unknown            0.013636\n",
       "browser_IE                 0.013363\n",
       "source_SEO                 0.012251\n",
       "age_18-27                  0.012010\n",
       "purchase_weekday_4         0.011475\n",
       "purchase_weekday_6         0.010327\n",
       "purchase_hour_12-17        0.008243\n",
       "purchase_weekday_5         0.007894"
      ]
     },
     "execution_count": 11,
     "metadata": {},
     "output_type": "execute_result"
    }
   ],
   "source": [
    "corr = df[numerical + categorical + target].corr()\n",
    "np.abs(corr[[\"class\"]]).sort_values(by=\"class\", ascending=False)[:13]"
   ]
  },
  {
   "cell_type": "code",
   "execution_count": 12,
   "metadata": {},
   "outputs": [
    {
     "data": {
      "image/png": "[encoded data removed]",
      "text/plain": [
       "<Figure size 864x720 with 2 Axes>"
      ]
     },
     "metadata": {
      "needs_background": "light"
     },
     "output_type": "display_data"
    }
   ],
   "source": [
    "fig, ax = plt.subplots(figsize=(12, 10))\n",
    "\n",
    "sns.heatmap(corr, annot=False, ax=ax);\n",
    "\n",
    "plt.show()"
   ]
  },
  {
   "cell_type": "markdown",
   "metadata": {},
   "source": [
    "##### train test split"
   ]
  },
  {
   "cell_type": "code",
   "execution_count": 13,
   "metadata": {},
   "outputs": [],
   "source": [
    "random.seed(42)\n",
    "\n",
    "X = df[numerical + categorical]\n",
    "y = df[target]\n",
    "\n",
    "X_train, X_test, y_train, y_test = train_test_split(X, y, stratify=y, test_size=0.2)"
   ]
  },
  {
   "cell_type": "code",
   "execution_count": 14,
   "metadata": {},
   "outputs": [
    {
     "data": {
      "text/plain": [
       "((120889, 28), (30223, 28), (120889, 1), (30223, 1))"
      ]
     },
     "execution_count": 14,
     "metadata": {},
     "output_type": "execute_result"
    }
   ],
   "source": [
    "X_train.shape, X_test.shape, y_train.shape, y_test.shape"
   ]
  },
  {
   "cell_type": "markdown",
   "metadata": {},
   "source": [
    "##### standardisation"
   ]
  },
  {
   "cell_type": "code",
   "execution_count": 15,
   "metadata": {},
   "outputs": [],
   "source": [
    "sc_X = StandardScaler().fit(X_train)\n",
    "X_train = sc_X.transform(X_train)\n",
    "X_test = sc_X.transform(X_test)"
   ]
  },
  {
   "cell_type": "markdown",
   "metadata": {},
   "source": [
    "### Logistic Regression"
   ]
  },
  {
   "cell_type": "code",
   "execution_count": 186,
   "metadata": {},
   "outputs": [
    {
     "data": {
      "text/plain": [
       "{'C': 0.5}"
      ]
     },
     "execution_count": 186,
     "metadata": {},
     "output_type": "execute_result"
    },
    {
     "data": {
      "application/javascript": [
       "$(document).ready(\n",
       "    function() {\n",
       "        function appendUniqueDiv(){\n",
       "            // append a div with our uuid so we can check that it's already\n",
       "            // been sent and avoid duplicates on page reload\n",
       "            var notifiedDiv = document.createElement(\"div\")\n",
       "            notifiedDiv.id = \"c601783d-ef4d-4673-bcdc-af24cbff9c23\"\n",
       "            element.append(notifiedDiv)\n",
       "        }\n",
       "\n",
       "        // only send notifications if the pageload is complete; this will\n",
       "        // help stop extra notifications when a saved notebook is loaded,\n",
       "        // which during testing gives us state \"interactive\", not \"complete\"\n",
       "        if (document.readyState === 'complete') {\n",
       "            // check for the div that signifies that the notification\n",
       "            // was already sent\n",
       "            if (document.getElementById(\"c601783d-ef4d-4673-bcdc-af24cbff9c23\") === null) {\n",
       "                var notificationPayload = {\"requireInteraction\": false, \"icon\": \"/static/base/images/favicon.ico\", \"body\": \"Cell execution has finished!\"};\n",
       "                if (Notification.permission !== 'denied') {\n",
       "                    if (Notification.permission !== 'granted') { \n",
       "                        Notification.requestPermission(function (permission) {\n",
       "                            if(!('permission' in Notification)) {\n",
       "                                Notification.permission = permission\n",
       "                            }\n",
       "                        })\n",
       "                    }\n",
       "                    if (Notification.permission === 'granted') {\n",
       "                    var notification = new Notification(\"Jupyter Notebook\", notificationPayload)\n",
       "                    appendUniqueDiv()\n",
       "                    notification.onclick = function () {\n",
       "                        window.focus();\n",
       "                        this.close();\n",
       "                        };\n",
       "                    } \n",
       "                }     \n",
       "            }\n",
       "        }\n",
       "    }\n",
       ")\n"
      ],
      "text/plain": [
       "<IPython.core.display.Javascript object>"
      ]
     },
     "metadata": {},
     "output_type": "display_data"
    }
   ],
   "source": [
    "%%notify\n",
    "\n",
    "param_grid = {\"C\" : [0.5, 1]}\n",
    "\n",
    "search = (GridSearchCV(LogisticRegression(n_jobs=-1, class_weight={0:1, 1:10}), param_grid=param_grid, scoring=\"recall\", cv=10, n_jobs=-1)\n",
    "          .fit(X_train, y_train.squeeze()))\n",
    "search.best_params_"
   ]
  },
  {
   "cell_type": "code",
   "execution_count": 187,
   "metadata": {},
   "outputs": [
    {
     "data": {
      "text/plain": [
       "(0.6399010497589602, 0.0034498188663776718)"
      ]
     },
     "execution_count": 187,
     "metadata": {},
     "output_type": "execute_result"
    }
   ],
   "source": [
    "logit = search.best_estimator_\n",
    "scores = cross_val_score(logit, X_train, y_train, cv=10, n_jobs=-1)\n",
    "scores.mean(), scores.std()"
   ]
  },
  {
   "cell_type": "code",
   "execution_count": 188,
   "metadata": {},
   "outputs": [],
   "source": [
    "y_pred = logit.predict(X_train)"
   ]
  },
  {
   "cell_type": "code",
   "execution_count": 189,
   "metadata": {},
   "outputs": [],
   "source": [
    "cm = confusion_matrix(y_train, y_pred)"
   ]
  },
  {
   "cell_type": "code",
   "execution_count": 190,
   "metadata": {},
   "outputs": [
    {
     "data": {
      "image/png": "[encoded data removed]",
      "text/plain": [
       "<Figure size 864x720 with 2 Axes>"
      ]
     },
     "metadata": {
      "needs_background": "light"
     },
     "output_type": "display_data"
    }
   ],
   "source": [
    "fig, ax = plt.subplots(figsize=(12, 10))\n",
    "\n",
    "sns.heatmap(cm, annot=True, ax=ax, fmt=\"d\");\n",
    "\n",
    "plt.show()"
   ]
  },
  {
   "cell_type": "code",
   "execution_count": 191,
   "metadata": {},
   "outputs": [
    {
     "name": "stdout",
     "output_type": "stream",
     "text": [
      "              precision    recall  f1-score   support\n",
      "\n",
      "           0       0.95      0.63      0.76    109568\n",
      "           1       0.17      0.71      0.27     11321\n",
      "\n",
      "    accuracy                           0.64    120889\n",
      "   macro avg       0.56      0.67      0.52    120889\n",
      "weighted avg       0.88      0.64      0.72    120889\n",
      "\n"
     ]
    }
   ],
   "source": [
    "print(classification_report(y_train, y_pred))"
   ]
  },
  {
   "cell_type": "markdown",
   "metadata": {},
   "source": [
    "### Random Forest Classifier"
   ]
  },
  {
   "cell_type": "code",
   "execution_count": 210,
   "metadata": {},
   "outputs": [
    {
     "data": {
      "text/plain": [
       "{'max_depth': 20, 'n_estimators': 10}"
      ]
     },
     "execution_count": 210,
     "metadata": {},
     "output_type": "execute_result"
    },
    {
     "data": {
      "application/javascript": [
       "$(document).ready(\n",
       "    function() {\n",
       "        function appendUniqueDiv(){\n",
       "            // append a div with our uuid so we can check that it's already\n",
       "            // been sent and avoid duplicates on page reload\n",
       "            var notifiedDiv = document.createElement(\"div\")\n",
       "            notifiedDiv.id = \"4e5b8b80-f455-46c1-95b7-0e15579070df\"\n",
       "            element.append(notifiedDiv)\n",
       "        }\n",
       "\n",
       "        // only send notifications if the pageload is complete; this will\n",
       "        // help stop extra notifications when a saved notebook is loaded,\n",
       "        // which during testing gives us state \"interactive\", not \"complete\"\n",
       "        if (document.readyState === 'complete') {\n",
       "            // check for the div that signifies that the notification\n",
       "            // was already sent\n",
       "            if (document.getElementById(\"4e5b8b80-f455-46c1-95b7-0e15579070df\") === null) {\n",
       "                var notificationPayload = {\"requireInteraction\": false, \"icon\": \"/static/base/images/favicon.ico\", \"body\": \"Cell execution has finished!\"};\n",
       "                if (Notification.permission !== 'denied') {\n",
       "                    if (Notification.permission !== 'granted') { \n",
       "                        Notification.requestPermission(function (permission) {\n",
       "                            if(!('permission' in Notification)) {\n",
       "                                Notification.permission = permission\n",
       "                            }\n",
       "                        })\n",
       "                    }\n",
       "                    if (Notification.permission === 'granted') {\n",
       "                    var notification = new Notification(\"Jupyter Notebook\", notificationPayload)\n",
       "                    appendUniqueDiv()\n",
       "                    notification.onclick = function () {\n",
       "                        window.focus();\n",
       "                        this.close();\n",
       "                        };\n",
       "                    } \n",
       "                }     \n",
       "            }\n",
       "        }\n",
       "    }\n",
       ")\n"
      ],
      "text/plain": [
       "<IPython.core.display.Javascript object>"
      ]
     },
     "metadata": {},
     "output_type": "display_data"
    }
   ],
   "source": [
    "%%notify\n",
    "param_grid = {\"n_estimators\": [10, 100], \"max_depth\": [10, 20]}\n",
    "\n",
    "search = (GridSearchCV(RandomForestClassifier(n_jobs=-1, class_weight={0:1, 1:10}), param_grid=param_grid, scoring=\"recall\", cv=10, n_jobs=-1)\n",
    "          .fit(X_train, y_train.squeeze()))\n",
    "search.best_params_"
   ]
  },
  {
   "cell_type": "code",
   "execution_count": null,
   "metadata": {},
   "outputs": [],
   "source": [
    "rf_clf = search.best_estimator_"
   ]
  },
  {
   "cell_type": "code",
   "execution_count": 215,
   "metadata": {},
   "outputs": [
    {
     "data": {
      "text/plain": [
       "(0.9537438539255516, 0.0031062027015069655)"
      ]
     },
     "execution_count": 215,
     "metadata": {},
     "output_type": "execute_result"
    }
   ],
   "source": [
    "scores = cross_val_score(rf_clf, X_test, y_test, cv=10, n_jobs=-1)\n",
    "scores.mean(), scores.std()"
   ]
  },
  {
   "cell_type": "code",
   "execution_count": 212,
   "metadata": {},
   "outputs": [
    {
     "data": {
      "image/png": "[encoded data removed]",
      "text/plain": [
       "<Figure size 864x720 with 2 Axes>"
      ]
     },
     "metadata": {
      "needs_background": "light"
     },
     "output_type": "display_data"
    }
   ],
   "source": [
    "y_pred = rf_clf.predict(X_train)\n",
    "cm = confusion_matrix(y_train, y_pred)\n",
    "\n",
    "fig, ax = plt.subplots(figsize=(12, 10))\n",
    "\n",
    "sns.heatmap(cm, annot=True, ax=ax, fmt=\"d\");\n",
    "\n",
    "plt.show()"
   ]
  },
  {
   "cell_type": "code",
   "execution_count": 213,
   "metadata": {},
   "outputs": [
    {
     "name": "stdout",
     "output_type": "stream",
     "text": [
      "              precision    recall  f1-score   support\n",
      "\n",
      "           0       0.98      1.00      0.99    109568\n",
      "           1       0.99      0.82      0.90     11321\n",
      "\n",
      "    accuracy                           0.98    120889\n",
      "   macro avg       0.99      0.91      0.95    120889\n",
      "weighted avg       0.98      0.98      0.98    120889\n",
      "\n"
     ]
    }
   ],
   "source": [
    "print(classification_report(y_train, y_pred))"
   ]
  },
  {
   "cell_type": "markdown",
   "metadata": {},
   "source": [
    "### ROC Curves"
   ]
  },
  {
   "cell_type": "code",
   "execution_count": 214,
   "metadata": {},
   "outputs": [
    {
     "data": {
      "image/png": "[encoded data removed]",
      "text/plain": [
       "<Figure size 864x576 with 1 Axes>"
      ]
     },
     "metadata": {
      "needs_background": "light"
     },
     "output_type": "display_data"
    }
   ],
   "source": [
    "fig, ax = plt.subplots(figsize=(12, 8))\n",
    "\n",
    "plot_roc_curve(logit, X_train, y_train, ax=ax, name=\"log reg 0.5 - 10\")\n",
    "plot_roc_curve(rf_clf, X_train, y_train, ax=ax, name=\"RF 10 - 10\")\n",
    "ax.plot([0, 1], [0, 1], 'r--')\n",
    "ax.set_title(\"ROC Curves - train set\")\n",
    "\n",
    "plt.show()\n",
    "#fig.savefig('images/roc_curves.png', transparent=False, dpi=80, bbox_inches=\"tight\")"
   ]
  },
  {
   "cell_type": "code",
   "execution_count": null,
   "metadata": {},
   "outputs": [],
   "source": []
  }
 ],
 "metadata": {
  "kernelspec": {
   "display_name": "Python 3",
   "language": "python",
   "name": "python3"
  },
  "language_info": {
   "codemirror_mode": {
    "name": "ipython",
    "version": 3
   },
   "file_extension": ".py",
   "mimetype": "text/x-python",
   "name": "python",
   "nbconvert_exporter": "python",
   "pygments_lexer": "ipython3",
   "version": "3.8.3"
  }
 },
 "nbformat": 4,
 "nbformat_minor": 4
}
